{
  "nbformat": 4,
  "nbformat_minor": 0,
  "metadata": {
    "colab": {
      "provenance": []
    },
    "kernelspec": {
      "name": "python3",
      "display_name": "Python 3"
    },
    "language_info": {
      "name": "python"
    }
  },
  "cells": [
    {
      "cell_type": "markdown",
      "source": [
        "#Задача 1\n",
        "Написать функцию на вход которой подается строка, состоящая из латинских букв.\n",
        "Функция должна вернуть количество гласных букв (a, e, i, o, u) в этой строке. Написать тесты для кода"
      ],
      "metadata": {
        "id": "M-DGa20PaHnu"
      }
    },
    {
      "cell_type": "code",
      "source": [
        "def VowelLettersCounter(text):\n",
        "    count = 0\n",
        "    letters = 'aeiou'\n",
        "    for letter in text:\n",
        "        if letter.lower() in letters:\n",
        "            count += 1\n",
        "    return count\n",
        "\n",
        "test1 = \"aaaau\"\n",
        "print(f\"Test 1: {VowelLettersCounter(test1)}\")\n",
        "\n",
        "test2 = \"aoofsaae\"\n",
        "print(f\"Test 2: {VowelLettersCounter(test2)}\")\n",
        "\n",
        "test3 = \"dddfff\"\n",
        "print(f\"Test 3: {VowelLettersCounter(test3)}\")\n"
      ],
      "metadata": {
        "id": "XvX8X_JJ6PCb",
        "outputId": "aa99d7b8-4a17-450e-c66c-2cc609e2f9b1",
        "colab": {
          "base_uri": "https://localhost:8080/"
        }
      },
      "execution_count": null,
      "outputs": [
        {
          "output_type": "stream",
          "name": "stdout",
          "text": [
            "Test 1: 5\n",
            "Test 2: 6\n",
            "Test 3: 0\n"
          ]
        }
      ]
    },
    {
      "cell_type": "markdown",
      "source": [
        "# Задача 2\n",
        "Написать функцию на вход, которой подается строка. Функция должна вернуть true, если\n",
        "каждый символ в строке встречается только 1 раз, иначе должна вернуть false. Написать тесты для кода"
      ],
      "metadata": {
        "id": "t2ClV_Y0bbr6"
      }
    },
    {
      "cell_type": "code",
      "source": [
        "def UniqueChecker(inpt):\n",
        "    for symb in inpt:\n",
        "      count = 0\n",
        "      for symb_check in inpt:\n",
        "        if symb == symb_check:\n",
        "            count += 1\n",
        "            if count >= 2:\n",
        "              return False\n",
        "              break\n",
        "    return True\n",
        "\n",
        "test1 = \"qwerty\"\n",
        "test2 = \"yellow\"\n",
        "test3 = \"12234\"\n",
        "test4 = \"12345\"\n",
        "test5 = \"\"\n",
        "\n",
        "print(UniqueChecker(test1))\n",
        "print(UniqueChecker(test2))\n",
        "print(UniqueChecker(test3))\n",
        "print(UniqueChecker(test4))\n",
        "print(UniqueChecker(test5))\n"
      ],
      "metadata": {
        "id": "FppbECao6VIz",
        "outputId": "f72d39bf-dc63-4e20-9033-afcfc600114a",
        "colab": {
          "base_uri": "https://localhost:8080/"
        }
      },
      "execution_count": null,
      "outputs": [
        {
          "output_type": "stream",
          "name": "stdout",
          "text": [
            "True\n",
            "False\n",
            "False\n",
            "True\n",
            "True\n"
          ]
        }
      ]
    },
    {
      "cell_type": "markdown",
      "source": [
        "# Задача 3\n",
        "Написать функцию, которая принимает положительное число и возвращает количество\n",
        "бит равных 1 в этом числе. Написать тесты для кода"
      ],
      "metadata": {
        "id": "udRiIK1cdt6E"
      }
    },
    {
      "cell_type": "code",
      "source": [
        "def BitChecker(number):\n",
        "  if number > 0:\n",
        "    bin_number = f\"{bin(number)}\"\n",
        "    return bin_number.count('1')\n",
        "\n",
        "  else:\n",
        "    return 'Число не положительно'\n",
        "\n",
        "test1 = 8\n",
        "test2 = 0\n",
        "test3 = -3\n",
        "test4 = 15\n",
        "\n",
        "print(BitChecker(test1))\n",
        "print(BitChecker(test2))\n",
        "print(BitChecker(test3))\n",
        "print(BitChecker(test4))\n"
      ],
      "metadata": {
        "id": "6tkfDJRz6dp_",
        "outputId": "b3416d09-b8d5-4594-9ee5-490c9f71cf5b",
        "colab": {
          "base_uri": "https://localhost:8080/"
        }
      },
      "execution_count": null,
      "outputs": [
        {
          "output_type": "stream",
          "name": "stdout",
          "text": [
            "1\n",
            "Число не положительно\n",
            "Число не положительно\n",
            "4\n"
          ]
        }
      ]
    },
    {
      "cell_type": "markdown",
      "source": [
        "# Задача 4\n",
        "Написать функцию, которая принимает положительное число. Функция должна вернуть то,\n",
        "сколько раз необходимо перемножать цифры числа или результат перемножения, чтобы\n",
        "получилось число состоящее из одной цифры.\n",
        "Например, для входного числа:\n",
        "· 39 функция должна вернуть 3, так как 3*9=27 => 2*7=14 => 1*4=4\n",
        "· 4 функция должна вернуть 0, так как число уже состоит из одной цифры\n",
        "· 999 функция должна вернуть 4, так как 9*9*9=729 => 7*2*9=126 => 1*2*6=12 =>\n",
        "1*2=2. Написать тесты для кода"
      ],
      "metadata": {
        "id": "26dDUz-Ae17N"
      }
    },
    {
      "cell_type": "code",
      "source": [
        "def magic(n):\n",
        "    if n >= 10:\n",
        "      steps_count = 0\n",
        "      str_num = str(n)\n",
        "      count = 1\n",
        "      while(int(str_num) - 10 > 0):\n",
        "        for i in str_num:\n",
        "          count *= int(i)\n",
        "        str_num = str(count)\n",
        "        count = 1\n",
        "        steps_count += 1\n",
        "\n",
        "      return steps_count\n",
        "\n",
        "    elif n <= 0:\n",
        "      return 'Число не положительно'\n",
        "\n",
        "    else:\n",
        "      return 0\n",
        "\n",
        "test1 = 39\n",
        "test2 = 999\n",
        "test3 = 12\n",
        "test4 = -1\n",
        "test5 = 8\n",
        "\n",
        "print(magic(test1))\n",
        "print(magic(test2))\n",
        "print(magic(test3))\n",
        "print(magic(test4))\n",
        "print(magic(test5))\n"
      ],
      "metadata": {
        "id": "BH1A_Mgi6i4G",
        "outputId": "78013522-c26d-4740-e709-47db6f60a78b",
        "colab": {
          "base_uri": "https://localhost:8080/"
        }
      },
      "execution_count": null,
      "outputs": [
        {
          "output_type": "stream",
          "name": "stdout",
          "text": [
            "3\n",
            "4\n",
            "1\n",
            "Число не положительно\n",
            "0\n"
          ]
        }
      ]
    },
    {
      "cell_type": "markdown",
      "source": [
        "# Задача 5\n",
        "Написать функцию, которая принимает два целочисленных вектора одинаковой длины и\n",
        "возвращает среднеквадратическое отклонение двух векторов. Написать тесты для кода"
      ],
      "metadata": {
        "id": "0nS-kIa8g8vd"
      }
    },
    {
      "cell_type": "code",
      "source": [
        "import numpy as np\n",
        "\n",
        "def mse(vec1, vec2):\n",
        "    if len(vec1) != len(vec2):\n",
        "        return 'Разная длина векторов'\n",
        "\n",
        "    delta = np.array(vec1) - np.array(vec2)\n",
        "    delta_sqrt = np.square(delta)\n",
        "    avg_delta_sqrt = np.mean(delta_sqrt)\n",
        "    deviation = np.sqrt(avg_delta_sqrt)\n",
        "\n",
        "    return deviation\n",
        "\n",
        "test1_1, test1_2 = [1,2,4], [2,3,6]\n",
        "test2_1, test2_2 = [1,2,4], [1,2,4]\n",
        "test3_1, test3_2 = [1,2,4], [2,3,6,1]\n",
        "\n",
        "print(mse(test1_1, test1_2))\n",
        "print(mse(test2_1, test2_2))\n",
        "print(mse(test3_1, test3_2))\n"
      ],
      "metadata": {
        "id": "8iphx4LM6xbx",
        "outputId": "ccea3377-9038-410d-f8b1-80ec08182aa3",
        "colab": {
          "base_uri": "https://localhost:8080/"
        }
      },
      "execution_count": null,
      "outputs": [
        {
          "output_type": "stream",
          "name": "stdout",
          "text": [
            "1.4142135623730951\n",
            "0.0\n",
            "Разная длина векторов\n"
          ]
        }
      ]
    },
    {
      "cell_type": "markdown",
      "source": [
        "# Задача 6\n",
        "Написать функцию, принимающая целое положительное число. Функция должна вернуть\n",
        "строку вида “(n1**p1)(n2**p2)…(nk**pk)” представляющая разложение числа на простые\n",
        "множители (если pi == 1, то выводить только ni).\n",
        "Например, для числа 86240 функция должна вернуть “(2**5)(5)(7**2)(11)”. Написать тесты для кода"
      ],
      "metadata": {
        "id": "vpIPKL439zkw"
      }
    },
    {
      "cell_type": "code",
      "source": [
        "def factorization(number):\n",
        "\n",
        "  assert number >= 0\n",
        "\n",
        "  factors = \"\"\n",
        "  div = 2\n",
        "  while number > 1:\n",
        "        count = 0\n",
        "        while number % div == 0:\n",
        "            number //= div\n",
        "            count += 1\n",
        "        if count > 0:\n",
        "            if count == 1:\n",
        "                factors += f\"({div})\"\n",
        "            else:\n",
        "                factors += f\"({div}**{count})\"\n",
        "\n",
        "        div += 1\n",
        "\n",
        "  return factors\n",
        "\n",
        "test1 = 86240\n",
        "test2 = 25 #5**2\n",
        "test3 = -34\n",
        "\n",
        "print(factorization(test1))\n",
        "print(factorization(test2))\n",
        "print(factorization(test3))\n"
      ],
      "metadata": {
        "id": "pFebmcZk94Jw",
        "outputId": "2743cd49-041e-4251-d26b-41579d1bce5a",
        "colab": {
          "base_uri": "https://localhost:8080/",
          "height": 332
        }
      },
      "execution_count": null,
      "outputs": [
        {
          "output_type": "stream",
          "name": "stdout",
          "text": [
            "(2**5)(5)(7**2)(11)\n",
            "(5**2)\n"
          ]
        },
        {
          "output_type": "error",
          "ename": "AssertionError",
          "evalue": "",
          "traceback": [
            "\u001b[0;31m---------------------------------------------------------------------------\u001b[0m",
            "\u001b[0;31mAssertionError\u001b[0m                            Traceback (most recent call last)",
            "\u001b[0;32m<ipython-input-41-292fbc2e495a>\u001b[0m in \u001b[0;36m<cell line: 28>\u001b[0;34m()\u001b[0m\n\u001b[1;32m     26\u001b[0m \u001b[0mprint\u001b[0m\u001b[0;34m(\u001b[0m\u001b[0mfactorization\u001b[0m\u001b[0;34m(\u001b[0m\u001b[0mtest1\u001b[0m\u001b[0;34m)\u001b[0m\u001b[0;34m)\u001b[0m\u001b[0;34m\u001b[0m\u001b[0;34m\u001b[0m\u001b[0m\n\u001b[1;32m     27\u001b[0m \u001b[0mprint\u001b[0m\u001b[0;34m(\u001b[0m\u001b[0mfactorization\u001b[0m\u001b[0;34m(\u001b[0m\u001b[0mtest2\u001b[0m\u001b[0;34m)\u001b[0m\u001b[0;34m)\u001b[0m\u001b[0;34m\u001b[0m\u001b[0;34m\u001b[0m\u001b[0m\n\u001b[0;32m---> 28\u001b[0;31m \u001b[0mprint\u001b[0m\u001b[0;34m(\u001b[0m\u001b[0mfactorization\u001b[0m\u001b[0;34m(\u001b[0m\u001b[0mtest3\u001b[0m\u001b[0;34m)\u001b[0m\u001b[0;34m)\u001b[0m\u001b[0;34m\u001b[0m\u001b[0;34m\u001b[0m\u001b[0m\n\u001b[0m",
            "\u001b[0;32m<ipython-input-41-292fbc2e495a>\u001b[0m in \u001b[0;36mfactorization\u001b[0;34m(number)\u001b[0m\n\u001b[1;32m      1\u001b[0m \u001b[0;32mdef\u001b[0m \u001b[0mfactorization\u001b[0m\u001b[0;34m(\u001b[0m\u001b[0mnumber\u001b[0m\u001b[0;34m)\u001b[0m\u001b[0;34m:\u001b[0m\u001b[0;34m\u001b[0m\u001b[0;34m\u001b[0m\u001b[0m\n\u001b[1;32m      2\u001b[0m \u001b[0;34m\u001b[0m\u001b[0m\n\u001b[0;32m----> 3\u001b[0;31m   \u001b[0;32massert\u001b[0m \u001b[0mnumber\u001b[0m \u001b[0;34m>=\u001b[0m \u001b[0;36m0\u001b[0m\u001b[0;34m\u001b[0m\u001b[0;34m\u001b[0m\u001b[0m\n\u001b[0m\u001b[1;32m      4\u001b[0m \u001b[0;34m\u001b[0m\u001b[0m\n\u001b[1;32m      5\u001b[0m   \u001b[0mfactors\u001b[0m \u001b[0;34m=\u001b[0m \u001b[0;34m\"\"\u001b[0m\u001b[0;34m\u001b[0m\u001b[0;34m\u001b[0m\u001b[0m\n",
            "\u001b[0;31mAssertionError\u001b[0m: "
          ]
        }
      ]
    },
    {
      "cell_type": "markdown",
      "source": [
        "# Задача 7\n",
        "Написать функцию, принимающая целое число n, задающее количество кубиков. Функция\n",
        "должна определить, можно ли из данного кол-ва кубиков построить пирамиду, то есть\n",
        "можно ли представить число n как 1^2+2^2+3^2+…+k^2. Если можно, то функция должна\n",
        "вернуть k, иначе строку “It is impossible”. Написать тесты для кода"
      ],
      "metadata": {
        "id": "ps2s0BudX7A2"
      }
    },
    {
      "cell_type": "code",
      "source": [
        "def pyramid(number):\n",
        "\n",
        "    assert number >= 0\n",
        "    k = 1\n",
        "    cubes_sum = 0\n",
        "\n",
        "    while cubes_sum < number:\n",
        "        cubes_sum += k ** 2\n",
        "        if cubes_sum == number:\n",
        "            return k\n",
        "        k += 1\n",
        "\n",
        "    return \"It is impossible\"\n",
        "\n",
        "test1 = 14 #1^2 + 2^2 + 3^2\n",
        "test2 = 15\n",
        "test3 = -14\n",
        "\n",
        "print(pyramid(test1))\n",
        "print(pyramid(test2))\n",
        "print(pyramid(test3))\n"
      ],
      "metadata": {
        "id": "3YPjEXxhX_YT",
        "outputId": "ae9aabb0-d449-4360-b861-4e4f11ae7667",
        "colab": {
          "base_uri": "https://localhost:8080/",
          "height": 332
        }
      },
      "execution_count": null,
      "outputs": [
        {
          "output_type": "stream",
          "name": "stdout",
          "text": [
            "3\n",
            "It is impossible\n"
          ]
        },
        {
          "output_type": "error",
          "ename": "AssertionError",
          "evalue": "",
          "traceback": [
            "\u001b[0;31m---------------------------------------------------------------------------\u001b[0m",
            "\u001b[0;31mAssertionError\u001b[0m                            Traceback (most recent call last)",
            "\u001b[0;32m<ipython-input-42-ca2bcaabc9c8>\u001b[0m in \u001b[0;36m<cell line: 21>\u001b[0;34m()\u001b[0m\n\u001b[1;32m     19\u001b[0m \u001b[0mprint\u001b[0m\u001b[0;34m(\u001b[0m\u001b[0mpyramid\u001b[0m\u001b[0;34m(\u001b[0m\u001b[0mtest1\u001b[0m\u001b[0;34m)\u001b[0m\u001b[0;34m)\u001b[0m\u001b[0;34m\u001b[0m\u001b[0;34m\u001b[0m\u001b[0m\n\u001b[1;32m     20\u001b[0m \u001b[0mprint\u001b[0m\u001b[0;34m(\u001b[0m\u001b[0mpyramid\u001b[0m\u001b[0;34m(\u001b[0m\u001b[0mtest2\u001b[0m\u001b[0;34m)\u001b[0m\u001b[0;34m)\u001b[0m\u001b[0;34m\u001b[0m\u001b[0;34m\u001b[0m\u001b[0m\n\u001b[0;32m---> 21\u001b[0;31m \u001b[0mprint\u001b[0m\u001b[0;34m(\u001b[0m\u001b[0mpyramid\u001b[0m\u001b[0;34m(\u001b[0m\u001b[0mtest3\u001b[0m\u001b[0;34m)\u001b[0m\u001b[0;34m)\u001b[0m\u001b[0;34m\u001b[0m\u001b[0;34m\u001b[0m\u001b[0m\n\u001b[0m",
            "\u001b[0;32m<ipython-input-42-ca2bcaabc9c8>\u001b[0m in \u001b[0;36mpyramid\u001b[0;34m(number)\u001b[0m\n\u001b[1;32m      1\u001b[0m \u001b[0;32mdef\u001b[0m \u001b[0mpyramid\u001b[0m\u001b[0;34m(\u001b[0m\u001b[0mnumber\u001b[0m\u001b[0;34m)\u001b[0m\u001b[0;34m:\u001b[0m\u001b[0;34m\u001b[0m\u001b[0;34m\u001b[0m\u001b[0m\n\u001b[1;32m      2\u001b[0m \u001b[0;34m\u001b[0m\u001b[0m\n\u001b[0;32m----> 3\u001b[0;31m     \u001b[0;32massert\u001b[0m \u001b[0mnumber\u001b[0m \u001b[0;34m>=\u001b[0m \u001b[0;36m0\u001b[0m\u001b[0;34m\u001b[0m\u001b[0;34m\u001b[0m\u001b[0m\n\u001b[0m\u001b[1;32m      4\u001b[0m     \u001b[0mk\u001b[0m \u001b[0;34m=\u001b[0m \u001b[0;36m1\u001b[0m\u001b[0;34m\u001b[0m\u001b[0;34m\u001b[0m\u001b[0m\n\u001b[1;32m      5\u001b[0m     \u001b[0mcubes_sum\u001b[0m \u001b[0;34m=\u001b[0m \u001b[0;36m0\u001b[0m\u001b[0;34m\u001b[0m\u001b[0;34m\u001b[0m\u001b[0m\n",
            "\u001b[0;31mAssertionError\u001b[0m: "
          ]
        }
      ]
    },
    {
      "cell_type": "markdown",
      "source": [
        "# Задача 8\n",
        "Функция принимает на вход положительное число и определяет является ли оно сбалансированным, т.е. сумма цифр до средних равна сумме цифр после. Средними в случае нечетного числа цифр считать одну цифру, в случае четного - две средних. Написать тесты для кода"
      ],
      "metadata": {
        "id": "KeKgmIdAQMEJ"
      }
    },
    {
      "cell_type": "code",
      "source": [
        "def balanceNumChecker(number):\n",
        "  assert number > 0\n",
        "\n",
        "  num_str = str(number)\n",
        "  num_len = len(num_str)\n",
        "\n",
        "  if num_len % 2 == 0:\n",
        "    mid_first = num_len // 2\n",
        "    mid_second = num_len // 2 - 1\n",
        "  else:\n",
        "    mid_first = mid_second = num_len // 2\n",
        "\n",
        "  sum_before = sum(int(elmnt) for elmnt in num_str[:mid_first+1])\n",
        "  sum_after = sum(int(elmnt) for elmnt in num_str[mid_second:])\n",
        "\n",
        "  if sum_before == sum_after:\n",
        "    return f'{number} является сбалансированным числом'\n",
        "  else:\n",
        "    return f'{number} не является сбалансированным числом'\n",
        "\n",
        "test1 = 1234321\n",
        "test2 = 12364321\n",
        "test3 = 1234322\n",
        "test4 = 8\n",
        "test5 = -21231\n",
        "\n",
        "print(balanceNumChecker(test1))\n",
        "print(balanceNumChecker(test2))\n",
        "print(balanceNumChecker(test3))\n",
        "print(balanceNumChecker(test4))\n",
        "print(balanceNumChecker(test5))\n"
      ],
      "metadata": {
        "id": "gMAAqtqlQrZt",
        "outputId": "a8f6ed49-39cc-4e35-fd5f-919d398296c6",
        "colab": {
          "base_uri": "https://localhost:8080/",
          "height": 367
        }
      },
      "execution_count": null,
      "outputs": [
        {
          "output_type": "stream",
          "name": "stdout",
          "text": [
            "1234321 является сбалансированным числом\n",
            "12364321 является сбалансированным числом\n",
            "1234322 не является сбалансированным числом\n",
            "8 является сбалансированным числом\n"
          ]
        },
        {
          "output_type": "error",
          "ename": "AssertionError",
          "evalue": "",
          "traceback": [
            "\u001b[0;31m---------------------------------------------------------------------------\u001b[0m",
            "\u001b[0;31mAssertionError\u001b[0m                            Traceback (most recent call last)",
            "\u001b[0;32m<ipython-input-49-08e32995b38e>\u001b[0m in \u001b[0;36m<cell line: 31>\u001b[0;34m()\u001b[0m\n\u001b[1;32m     29\u001b[0m \u001b[0mprint\u001b[0m\u001b[0;34m(\u001b[0m\u001b[0mbalanceNumChecker\u001b[0m\u001b[0;34m(\u001b[0m\u001b[0mtest3\u001b[0m\u001b[0;34m)\u001b[0m\u001b[0;34m)\u001b[0m\u001b[0;34m\u001b[0m\u001b[0;34m\u001b[0m\u001b[0m\n\u001b[1;32m     30\u001b[0m \u001b[0mprint\u001b[0m\u001b[0;34m(\u001b[0m\u001b[0mbalanceNumChecker\u001b[0m\u001b[0;34m(\u001b[0m\u001b[0mtest4\u001b[0m\u001b[0;34m)\u001b[0m\u001b[0;34m)\u001b[0m\u001b[0;34m\u001b[0m\u001b[0;34m\u001b[0m\u001b[0m\n\u001b[0;32m---> 31\u001b[0;31m \u001b[0mprint\u001b[0m\u001b[0;34m(\u001b[0m\u001b[0mbalanceNumChecker\u001b[0m\u001b[0;34m(\u001b[0m\u001b[0mtest5\u001b[0m\u001b[0;34m)\u001b[0m\u001b[0;34m)\u001b[0m\u001b[0;34m\u001b[0m\u001b[0;34m\u001b[0m\u001b[0m\n\u001b[0m",
            "\u001b[0;32m<ipython-input-49-08e32995b38e>\u001b[0m in \u001b[0;36mbalanceNumChecker\u001b[0;34m(number)\u001b[0m\n\u001b[1;32m      1\u001b[0m \u001b[0;32mdef\u001b[0m \u001b[0mbalanceNumChecker\u001b[0m\u001b[0;34m(\u001b[0m\u001b[0mnumber\u001b[0m\u001b[0;34m)\u001b[0m\u001b[0;34m:\u001b[0m\u001b[0;34m\u001b[0m\u001b[0;34m\u001b[0m\u001b[0m\n\u001b[0;32m----> 2\u001b[0;31m   \u001b[0;32massert\u001b[0m \u001b[0mnumber\u001b[0m \u001b[0;34m>\u001b[0m \u001b[0;36m0\u001b[0m\u001b[0;34m\u001b[0m\u001b[0;34m\u001b[0m\u001b[0m\n\u001b[0m\u001b[1;32m      3\u001b[0m \u001b[0;34m\u001b[0m\u001b[0m\n\u001b[1;32m      4\u001b[0m   \u001b[0mnum_str\u001b[0m \u001b[0;34m=\u001b[0m \u001b[0mstr\u001b[0m\u001b[0;34m(\u001b[0m\u001b[0mnumber\u001b[0m\u001b[0;34m)\u001b[0m\u001b[0;34m\u001b[0m\u001b[0;34m\u001b[0m\u001b[0m\n\u001b[1;32m      5\u001b[0m   \u001b[0mnum_len\u001b[0m \u001b[0;34m=\u001b[0m \u001b[0mlen\u001b[0m\u001b[0;34m(\u001b[0m\u001b[0mnum_str\u001b[0m\u001b[0;34m)\u001b[0m\u001b[0;34m\u001b[0m\u001b[0;34m\u001b[0m\u001b[0m\n",
            "\u001b[0;31mAssertionError\u001b[0m: "
          ]
        }
      ]
    }
  ]
}